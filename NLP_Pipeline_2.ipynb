{
  "nbformat": 4,
  "nbformat_minor": 0,
  "metadata": {
    "colab": {
      "provenance": [],
      "authorship_tag": "ABX9TyNVUvoYLUrh9gzjd7jJvibS",
      "include_colab_link": true
    },
    "kernelspec": {
      "name": "python3",
      "display_name": "Python 3"
    },
    "language_info": {
      "name": "python"
    }
  },
  "cells": [
    {
      "cell_type": "markdown",
      "metadata": {
        "id": "view-in-github",
        "colab_type": "text"
      },
      "source": [
        "<a href=\"https://colab.research.google.com/github/RishiRishwanth/Natural_Language_Processing/blob/main/NLP_Pipeline_2.ipynb\" target=\"_parent\"><img src=\"https://colab.research.google.com/assets/colab-badge.svg\" alt=\"Open In Colab\"/></a>"
      ]
    },
    {
      "cell_type": "markdown",
      "source": [
        "## ***Stemmng***"
      ],
      "metadata": {
        "id": "PAcPmUjNBFdH"
      }
    },
    {
      "cell_type": "code",
      "source": [
        "#spacy doesnt suppor stemming it uses lemmatizing but we can use NLTK for stemming"
      ],
      "metadata": {
        "id": "h2Ao-2kUBHpu"
      },
      "execution_count": 1,
      "outputs": []
    },
    {
      "cell_type": "code",
      "source": [
        "import nltk\n",
        "from nltk.stem.porter import PorterStemmer\n",
        "p_stemmer = PorterStemmer()\n",
        "words =['run','runner','ran','runs','easily','fairly']\n",
        "\n",
        "for word in words:\n",
        "  print(word+'--->'+p_stemmer.stem(word))"
      ],
      "metadata": {
        "colab": {
          "base_uri": "https://localhost:8080/"
        },
        "id": "wRVqhy3dBPIS",
        "outputId": "b69fe55a-c6a1-4c28-ae83-ce25f80ba043"
      },
      "execution_count": 2,
      "outputs": [
        {
          "output_type": "stream",
          "name": "stdout",
          "text": [
            "run--->run\n",
            "runner--->runner\n",
            "ran--->ran\n",
            "runs--->run\n",
            "easily--->easili\n",
            "fairly--->fairli\n"
          ]
        }
      ]
    },
    {
      "cell_type": "code",
      "source": [
        "from nltk.stem.snowball import SnowballStemmer\n",
        "s_stemmer = SnowballStemmer(language = 'english')\n",
        "for word in words:\n",
        "    print(word+'--->'+s_stemmer.stem(word))"
      ],
      "metadata": {
        "colab": {
          "base_uri": "https://localhost:8080/"
        },
        "id": "0X2XF8fOBugD",
        "outputId": "3826a7c0-d8a4-40f9-8a00-bd18189c17b5"
      },
      "execution_count": 5,
      "outputs": [
        {
          "output_type": "stream",
          "name": "stdout",
          "text": [
            "run--->run\n",
            "runner--->runner\n",
            "ran--->ran\n",
            "runs--->run\n",
            "easily--->easili\n",
            "fairly--->fair\n"
          ]
        }
      ]
    },
    {
      "cell_type": "markdown",
      "source": [
        "## ***LEMMATIZATION***"
      ],
      "metadata": {
        "id": "aCKWBXOZCqZW"
      }
    },
    {
      "cell_type": "code",
      "source": [
        "import spacy\n",
        "nlp = spacy.load('en_core_web_sm')\n",
        "doc1 = nlp(u'Iam a runner in a race because I love to run since I ran to end')\n",
        "\n",
        "for token in doc1:\n",
        "  print(token.text,'\\t',token.pos_,'\\t',token.lemma_,'\\t',token.lemma)\n",
        "\n"
      ],
      "metadata": {
        "colab": {
          "base_uri": "https://localhost:8080/"
        },
        "id": "e7EdrZH5Ctmm",
        "outputId": "629af7d9-b3bb-4929-a4ea-431e90d440e7"
      },
      "execution_count": 10,
      "outputs": [
        {
          "output_type": "stream",
          "name": "stdout",
          "text": [
            "Iam \t VERB \t Iam \t 12956509474475040067\n",
            "a \t DET \t a \t 11901859001352538922\n",
            "runner \t NOUN \t runner \t 12640964157389618806\n",
            "in \t ADP \t in \t 3002984154512732771\n",
            "a \t DET \t a \t 11901859001352538922\n",
            "race \t NOUN \t race \t 8048469955494714898\n",
            "because \t SCONJ \t because \t 16950148841647037698\n",
            "I \t PRON \t I \t 4690420944186131903\n",
            "love \t VERB \t love \t 3702023516439754181\n",
            "to \t PART \t to \t 3791531372978436496\n",
            "run \t VERB \t run \t 12767647472892411841\n",
            "since \t SCONJ \t since \t 10066841407251338481\n",
            "I \t PRON \t I \t 4690420944186131903\n",
            "ran \t VERB \t run \t 12767647472892411841\n",
            "to \t PART \t to \t 3791531372978436496\n",
            "end \t VERB \t end \t 18250316222013540736\n"
          ]
        }
      ]
    },
    {
      "cell_type": "code",
      "source": [
        "#lemma bring the base words"
      ],
      "metadata": {
        "id": "h2Tiif81DWkX"
      },
      "execution_count": 11,
      "outputs": []
    },
    {
      "cell_type": "markdown",
      "source": [
        "#  ***STOP_WORDS***"
      ],
      "metadata": {
        "id": "2ekGH8u9EDDv"
      }
    },
    {
      "cell_type": "code",
      "source": [
        "import spacy\n",
        "nlp = spacy.load('en_core_web_sm')\n",
        "len(nlp.Defaults.stop_words)"
      ],
      "metadata": {
        "colab": {
          "base_uri": "https://localhost:8080/"
        },
        "id": "_1iXE5xXD4e6",
        "outputId": "77f98ac6-a71b-4d4a-80a4-450e1ef8de31"
      },
      "execution_count": 14,
      "outputs": [
        {
          "output_type": "execute_result",
          "data": {
            "text/plain": [
              "326"
            ]
          },
          "metadata": {},
          "execution_count": 14
        }
      ]
    },
    {
      "cell_type": "code",
      "source": [
        "nlp.vocab['mystery'].is_stop"
      ],
      "metadata": {
        "colab": {
          "base_uri": "https://localhost:8080/"
        },
        "id": "KLlc7-UsEfX2",
        "outputId": "1a168030-6c83-4d8a-a095-fdfcebc5eb45"
      },
      "execution_count": 15,
      "outputs": [
        {
          "output_type": "execute_result",
          "data": {
            "text/plain": [
              "False"
            ]
          },
          "metadata": {},
          "execution_count": 15
        }
      ]
    },
    {
      "cell_type": "code",
      "source": [
        "nlp.Defaults.stop_words.add('btw')\n",
        "# nlp.vocab['btw'].is_stop = True"
      ],
      "metadata": {
        "id": "p5hprmnTEquK"
      },
      "execution_count": 18,
      "outputs": []
    },
    {
      "cell_type": "code",
      "source": [
        "len(nlp.Defaults.stop_words)"
      ],
      "metadata": {
        "colab": {
          "base_uri": "https://localhost:8080/"
        },
        "id": "9moNESviE2XX",
        "outputId": "acb346d5-7a5d-4b33-bbef-e01ee099bcec"
      },
      "execution_count": 19,
      "outputs": [
        {
          "output_type": "execute_result",
          "data": {
            "text/plain": [
              "327"
            ]
          },
          "metadata": {},
          "execution_count": 19
        }
      ]
    },
    {
      "cell_type": "code",
      "source": [
        "nlp.Defaults.stop_words.remove('beyond')\n",
        "nlp.vocab['beyond'].is_stop"
      ],
      "metadata": {
        "colab": {
          "base_uri": "https://localhost:8080/"
        },
        "id": "Z9fZgNToE9SS",
        "outputId": "abe4776f-7458-4513-ebbc-10cd197cef2a"
      },
      "execution_count": 20,
      "outputs": [
        {
          "output_type": "execute_result",
          "data": {
            "text/plain": [
              "False"
            ]
          },
          "metadata": {},
          "execution_count": 20
        }
      ]
    },
    {
      "cell_type": "markdown",
      "source": [
        "# ***Vocabulary and Matching ***"
      ],
      "metadata": {
        "id": "muunkFTaFQvb"
      }
    },
    {
      "cell_type": "code",
      "source": [
        "import spacy\n",
        "nlp = spacy.load('en_core_web_sm')\n",
        "from spacy.matcher import Matcher\n",
        "\n",
        "matcher = Matcher(nlp.vocab)\n",
        "# SolarPower\n",
        "#Solar-Power\n",
        "# Solar power\n",
        "pattern1 = [{'LOWER':'solarpower'}]\n",
        "pattern2 = [{'LOWER':'solar'},{'IS_PUNCT':True},{'LOWER':'power'}]\n",
        "pattern3 = [{'LOWER':'solar'},{'LOWER':'power'}]\n",
        "\n"
      ],
      "metadata": {
        "id": "R6I_lnhuFNhk"
      },
      "execution_count": 26,
      "outputs": []
    },
    {
      "cell_type": "markdown",
      "source": [],
      "metadata": {
        "id": "bGcvPvVHJx7l"
      }
    },
    {
      "cell_type": "code",
      "source": [
        "matcher.add('SolarPower',None,pattern1,pattern2,pattern3)"
      ],
      "metadata": {
        "colab": {
          "base_uri": "https://localhost:8080/",
          "height": 218
        },
        "id": "-ujIxWs6GyOy",
        "outputId": "e4e462c4-3137-45e5-ac20-c92e6de6796a"
      },
      "execution_count": 27,
      "outputs": [
        {
          "output_type": "error",
          "ename": "TypeError",
          "evalue": "ignored",
          "traceback": [
            "\u001b[0;31m---------------------------------------------------------------------------\u001b[0m",
            "\u001b[0;31mTypeError\u001b[0m                                 Traceback (most recent call last)",
            "\u001b[0;32m<ipython-input-27-a902a48f9b7f>\u001b[0m in \u001b[0;36m<cell line: 1>\u001b[0;34m()\u001b[0m\n\u001b[0;32m----> 1\u001b[0;31m \u001b[0mmatcher\u001b[0m\u001b[0;34m.\u001b[0m\u001b[0madd\u001b[0m\u001b[0;34m(\u001b[0m\u001b[0;34m'SolarPower'\u001b[0m\u001b[0;34m,\u001b[0m\u001b[0;32mNone\u001b[0m\u001b[0;34m,\u001b[0m\u001b[0mpattern1\u001b[0m\u001b[0;34m,\u001b[0m\u001b[0mpattern2\u001b[0m\u001b[0;34m,\u001b[0m\u001b[0mpattern3\u001b[0m\u001b[0;34m)\u001b[0m\u001b[0;34m\u001b[0m\u001b[0;34m\u001b[0m\u001b[0m\n\u001b[0m",
            "\u001b[0;32m/usr/local/lib/python3.10/dist-packages/spacy/matcher/matcher.pyx\u001b[0m in \u001b[0;36mspacy.matcher.matcher.Matcher.add\u001b[0;34m()\u001b[0m\n",
            "\u001b[0;31mTypeError\u001b[0m: add() takes exactly 2 positional arguments (5 given)"
          ]
        }
      ]
    },
    {
      "cell_type": "code",
      "source": [],
      "metadata": {
        "id": "dO1yllglHLxc"
      },
      "execution_count": null,
      "outputs": []
    }
  ]
}